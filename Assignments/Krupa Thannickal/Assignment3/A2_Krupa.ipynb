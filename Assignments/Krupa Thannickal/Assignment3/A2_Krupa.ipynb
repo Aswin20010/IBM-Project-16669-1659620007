{
 "cells": [
  {
   "cell_type": "markdown",
   "metadata": {},
   "source": [
    "Q1) Consider a list (list = []). Perform the following commands:\n",
    "\n",
    "insert i e: Insert integer  at position.\n",
    "\n",
    "print: Print the list.\n",
    "\n",
    "remove e: Delete the first occurrence of integer .\n",
    "\n",
    "append e: Insert integer  at the end of the list.\n",
    "\n",
    "sort: Sort the list.\n",
    "\n",
    "pop: Pop the last element from the list.\n",
    "\n",
    "reverse: Reverse the list.\n",
    "\n",
    "Initialize your list and read in the value followed by lines of commands where each command will be of the types listed above. Iterate through each command in order and perform the corresponding operation on your list."
   ]
  },
  {
   "cell_type": "code",
   "execution_count": 6,
   "metadata": {},
   "outputs": [
    {
     "name": "stdout",
     "output_type": "stream",
     "text": [
      "Initialized list:  [91, 7, 66, 32, 80, 112, 9, 48]\n",
      "Inserting 4 at index 3:  [91, 7, 66, 4, 32, 80, 112, 9, 48]\n",
      "Removing value 4:  [91, 7, 66, 32, 80, 112, 9, 48]\n",
      "Appending 60:  [91, 7, 66, 32, 80, 112, 9, 48, 60]\n",
      "Sorting:  [7, 9, 32, 48, 60, 66, 80, 91, 112]\n",
      "Pop out last element:  [7, 9, 32, 48, 60, 66, 80, 91]\n",
      "Reversing:  [91, 80, 66, 60, 48, 32, 9, 7]\n"
     ]
    }
   ],
   "source": [
    "list = [int(x) for x in input().split()]\n",
    "print(\"Initialized list: \", list)\n",
    "\n",
    "list.insert(3, 4)\n",
    "print(\"Inserting 4 at index 3: \", list)\n",
    "\n",
    "list.remove(4)\n",
    "print(\"Removing value 4: \", list)\n",
    "\n",
    "list.append(60)\n",
    "print(\"Appending 60: \", list)\n",
    "\n",
    "list.sort()\n",
    "print(\"Sorting: \", list)\n",
    "\n",
    "x = list.pop()\n",
    "print(\"Pop out last element: \", list)\n",
    "\n",
    "list.reverse()\n",
    "print(\"Reversing: \", list)"
   ]
  },
  {
   "cell_type": "markdown",
   "metadata": {},
   "source": [
    "Q2) Write a Calculator program in Python?"
   ]
  },
  {
   "cell_type": "code",
   "execution_count": 10,
   "metadata": {},
   "outputs": [
    {
     "name": "stdout",
     "output_type": "stream",
     "text": [
      "36.0 * 79.0  =  2844.0\n"
     ]
    }
   ],
   "source": [
    "x = float(input(\"Enter number1: \"))\n",
    "op = input(\"Enter operator: \")\n",
    "y = float(input(\"Enter number2: \"))\n",
    "\n",
    "def calc(a, b, op):\n",
    "    if(op == \"+\"):\n",
    "        return a+b;\n",
    "    elif(op == \"-\"):\n",
    "        return a-b;\n",
    "    elif(op == \"*\"):\n",
    "        return a*b;\n",
    "    elif(op == \"/\"):\n",
    "        return a/b;\n",
    "    elif(op == \"%\"):\n",
    "        return a%b;\n",
    "    else:\n",
    "        return \"Invalid operation!\"\n",
    "\n",
    "res = calc(x, y, op)\n",
    "print(x, op, y, \" = \", res)"
   ]
  },
  {
   "cell_type": "markdown",
   "metadata": {},
   "source": [
    "Q3) Write a program to concatenate, reverse and slice a string."
   ]
  },
  {
   "cell_type": "code",
   "execution_count": 11,
   "metadata": {},
   "outputs": [
    {
     "name": "stdout",
     "output_type": "stream",
     "text": [
      "String concatenation:  Sample String 1Sam_String2\n",
      "Reversed string:  1 gnirtS elpmaS\n",
      "String slice:\n",
      "\ts1[7:12] =  Strin \n",
      "\ts2[0:4] =  Sam_\n"
     ]
    }
   ],
   "source": [
    "s1 = \"Sample String 1\"\n",
    "s2 = \"Sam_String2\"\n",
    "print(\"String concatenation: \", s1+s2)\n",
    "print(\"Reversed string: \", s1[::-1])\n",
    "print(\"String slice:\\n\\ts1[7:12] = \", s1[7:12], \"\\n\\ts2[0:4] = \", s2[0:4])"
   ]
  },
  {
   "cell_type": "markdown",
   "metadata": {},
   "source": [
    "Q4) Why is Python a popular programming language?\n",
    "\n",
    "Python is easy to learn, with a simplified syntax having emphasis on natural language.\n",
    "It is free to use and backed by an extremely large ecosystem of libraries and packages.\n",
    "It is widely used in AI and ML algorithms.\n",
    "\n",
    "Q5) What are the other Frameworks that can be used with python?\n",
    "\n",
    "Flask, Django, Pyramid, Web2Py, Sanic, CherryPy and TurboGears.\n",
    "\n",
    "Q6) Full form of WSGI?\n",
    "\n",
    "WSGI: Web Server Gateway Interface\n",
    "It is used to forward requests from a web server to a backend Python web application or framework."
   ]
  }
 ],
 "metadata": {
  "kernelspec": {
   "display_name": "Python 3.10.2 64-bit",
   "language": "python",
   "name": "python3"
  },
  "language_info": {
   "codemirror_mode": {
    "name": "ipython",
    "version": 3
   },
   "file_extension": ".py",
   "mimetype": "text/x-python",
   "name": "python",
   "nbconvert_exporter": "python",
   "pygments_lexer": "ipython3",
   "version": "3.10.2"
  },
  "orig_nbformat": 4,
  "vscode": {
   "interpreter": {
    "hash": "369f2c481f4da34e4445cda3fffd2e751bd1c4d706f27375911949ba6bb62e1c"
   }
  }
 },
 "nbformat": 4,
 "nbformat_minor": 2
}
